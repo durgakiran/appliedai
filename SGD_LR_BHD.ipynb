{
  "nbformat": 4,
  "nbformat_minor": 0,
  "metadata": {
    "colab": {
      "name": "SGD_LR_BHD.ipynb",
      "version": "0.3.2",
      "provenance": [],
      "collapsed_sections": []
    },
    "kernelspec": {
      "name": "python3",
      "display_name": "Python 3"
    }
  },
  "cells": [
    {
      "cell_type": "markdown",
      "metadata": {
        "id": "WeYA6HD2qvDe",
        "colab_type": "text"
      },
      "source": [
        "# Linear Regression with SGD on Bostons Home Data set"
      ]
    },
    {
      "cell_type": "markdown",
      "metadata": {
        "id": "0fGN5kNtq_z_",
        "colab_type": "text"
      },
      "source": [
        "## 1. Reading Boston Home Data set"
      ]
    },
    {
      "cell_type": "code",
      "metadata": {
        "id": "FAJ30T8Hqmfc",
        "colab_type": "code",
        "outputId": "93a531b9-13b3-4358-fc59-3983daa04d66",
        "colab": {
          "base_uri": "https://localhost:8080/",
          "height": 34
        }
      },
      "source": [
        "#https://scikit-learn.org/stable/modules/generated/sklearn.datasets.load_boston.html\n",
        "import pandas as pd\n",
        "import numpy as np\n",
        "from sklearn.datasets import load_boston\n",
        "from sklearn.model_selection  import train_test_split\n",
        "\n",
        "\n",
        "\n",
        "\n",
        "boston = load_boston()\n",
        "print(boston.data.shape)\n",
        "\n",
        "import warnings\n",
        "warnings.filterwarnings(\"ignore\")"
      ],
      "execution_count": 121,
      "outputs": [
        {
          "output_type": "stream",
          "text": [
            "(506, 13)\n"
          ],
          "name": "stdout"
        }
      ]
    },
    {
      "cell_type": "code",
      "metadata": {
        "id": "e6noAWwCsKGE",
        "colab_type": "code",
        "outputId": "0704bff8-6061-49a6-bf37-b51a0c404821",
        "colab": {
          "base_uri": "https://localhost:8080/",
          "height": 51
        }
      },
      "source": [
        "print(boston.feature_names)"
      ],
      "execution_count": 122,
      "outputs": [
        {
          "output_type": "stream",
          "text": [
            "['CRIM' 'ZN' 'INDUS' 'CHAS' 'NOX' 'RM' 'AGE' 'DIS' 'RAD' 'TAX' 'PTRATIO'\n",
            " 'B' 'LSTAT']\n"
          ],
          "name": "stdout"
        }
      ]
    },
    {
      "cell_type": "code",
      "metadata": {
        "id": "PsZtF7AHsTHa",
        "colab_type": "code",
        "outputId": "c81765d1-03f4-481f-dce6-1131f43c01f9",
        "colab": {
          "base_uri": "https://localhost:8080/",
          "height": 904
        }
      },
      "source": [
        "print(boston.DESCR)"
      ],
      "execution_count": 123,
      "outputs": [
        {
          "output_type": "stream",
          "text": [
            ".. _boston_dataset:\n",
            "\n",
            "Boston house prices dataset\n",
            "---------------------------\n",
            "\n",
            "**Data Set Characteristics:**  \n",
            "\n",
            "    :Number of Instances: 506 \n",
            "\n",
            "    :Number of Attributes: 13 numeric/categorical predictive. Median Value (attribute 14) is usually the target.\n",
            "\n",
            "    :Attribute Information (in order):\n",
            "        - CRIM     per capita crime rate by town\n",
            "        - ZN       proportion of residential land zoned for lots over 25,000 sq.ft.\n",
            "        - INDUS    proportion of non-retail business acres per town\n",
            "        - CHAS     Charles River dummy variable (= 1 if tract bounds river; 0 otherwise)\n",
            "        - NOX      nitric oxides concentration (parts per 10 million)\n",
            "        - RM       average number of rooms per dwelling\n",
            "        - AGE      proportion of owner-occupied units built prior to 1940\n",
            "        - DIS      weighted distances to five Boston employment centres\n",
            "        - RAD      index of accessibility to radial highways\n",
            "        - TAX      full-value property-tax rate per $10,000\n",
            "        - PTRATIO  pupil-teacher ratio by town\n",
            "        - B        1000(Bk - 0.63)^2 where Bk is the proportion of blacks by town\n",
            "        - LSTAT    % lower status of the population\n",
            "        - MEDV     Median value of owner-occupied homes in $1000's\n",
            "\n",
            "    :Missing Attribute Values: None\n",
            "\n",
            "    :Creator: Harrison, D. and Rubinfeld, D.L.\n",
            "\n",
            "This is a copy of UCI ML housing dataset.\n",
            "https://archive.ics.uci.edu/ml/machine-learning-databases/housing/\n",
            "\n",
            "\n",
            "This dataset was taken from the StatLib library which is maintained at Carnegie Mellon University.\n",
            "\n",
            "The Boston house-price data of Harrison, D. and Rubinfeld, D.L. 'Hedonic\n",
            "prices and the demand for clean air', J. Environ. Economics & Management,\n",
            "vol.5, 81-102, 1978.   Used in Belsley, Kuh & Welsch, 'Regression diagnostics\n",
            "...', Wiley, 1980.   N.B. Various transformations are used in the table on\n",
            "pages 244-261 of the latter.\n",
            "\n",
            "The Boston house-price data has been used in many machine learning papers that address regression\n",
            "problems.   \n",
            "     \n",
            ".. topic:: References\n",
            "\n",
            "   - Belsley, Kuh & Welsch, 'Regression diagnostics: Identifying Influential Data and Sources of Collinearity', Wiley, 1980. 244-261.\n",
            "   - Quinlan,R. (1993). Combining Instance-Based and Model-Based Learning. In Proceedings on the Tenth International Conference of Machine Learning, 236-243, University of Massachusetts, Amherst. Morgan Kaufmann.\n",
            "\n"
          ],
          "name": "stdout"
        }
      ]
    },
    {
      "cell_type": "markdown",
      "metadata": {
        "id": "StmrVQz0xRG7",
        "colab_type": "text"
      },
      "source": [
        "**Data set variabe types**\n",
        "\n",
        "-  `CRIM` => numerical\n",
        "-  `ZN` => numerical\n",
        "- `INDUS` => numerical\n",
        "- `CHAS` => nuerical\n",
        "- `NOX` => numerical\n",
        "-  `RM` => numerical\n",
        "- `AGE` => numerical\n",
        "- `DIS` => numerical\n",
        "- `RAD` => numerical\n",
        "- `TAX` => numerical\n",
        "- `PTRATIO` => numerical\n",
        "-  `B` => numerical\n",
        "- `LSTAT` => numerical"
      ]
    },
    {
      "cell_type": "code",
      "metadata": {
        "id": "NRhGesbO0FNo",
        "colab_type": "code",
        "outputId": "08f1fff1-701d-41ac-8a5a-b7262d3c02a7",
        "colab": {
          "base_uri": "https://localhost:8080/",
          "height": 51
        }
      },
      "source": [
        "#converting dataset to dataframe\n",
        "bos = pd.DataFrame(data=boston.data)\n",
        "bos.columns = boston.feature_names\n",
        "price = boston.target\n",
        "\n",
        "data_train, data_test, label_trian, label_test = train_test_split(bos, price, test_size = 0.33, random_state = 5)\n",
        "print(data_train.shape)\n",
        "print(data_test.shape)"
      ],
      "execution_count": 124,
      "outputs": [
        {
          "output_type": "stream",
          "text": [
            "(339, 13)\n",
            "(167, 13)\n"
          ],
          "name": "stdout"
        }
      ]
    },
    {
      "cell_type": "markdown",
      "metadata": {
        "id": "VL3526-y2wpr",
        "colab_type": "text"
      },
      "source": [
        "## 2. Standardising train and test data set"
      ]
    },
    {
      "cell_type": "markdown",
      "metadata": {
        "id": "ZcN6jpyR3GqS",
        "colab_type": "text"
      },
      "source": [
        "since all the given data is numerical we can standardise all the dataser in a single pre processing stpe using StandardScalar"
      ]
    },
    {
      "cell_type": "code",
      "metadata": {
        "id": "JPhIJuGOsjfy",
        "colab_type": "code",
        "outputId": "ebd06878-6efd-4a08-bd21-6d8fa06a5280",
        "colab": {
          "base_uri": "https://localhost:8080/",
          "height": 255
        }
      },
      "source": [
        "# applying column standardization on train and test data\n",
        "from sklearn.preprocessing import StandardScaler\n",
        "s=StandardScaler()\n",
        "x_train=s.fit_transform(np.array(data_train))\n",
        "x_test=s.transform(np.array(data_test))\n",
        "\n",
        "#converting data to data to dataframe\n",
        "data_train_std = pd.DataFrame(data = x_train)\n",
        "data_test_std  = pd.DataFrame(data = x_test)\n",
        "\n",
        "data_train_std.columns = boston.feature_names\n",
        "data_test_std.columns = boston.feature_names\n",
        "\n",
        "print(data_train_std.head(4))\n",
        "print(data_test_std.head(4))"
      ],
      "execution_count": 125,
      "outputs": [
        {
          "output_type": "stream",
          "text": [
            "       CRIM        ZN     INDUS  ...   PTRATIO         B     LSTAT\n",
            "0  0.911839 -0.502419  1.072305  ...  0.808078 -2.842959  1.523203\n",
            "1 -0.411727 -0.502419 -1.129795  ... -0.304174  0.427436 -0.995240\n",
            "2  0.124583 -0.502419  1.072305  ...  0.808078 -0.053353 -0.765646\n",
            "3 -0.406208  0.839388 -0.901940  ... -0.860301  0.152292 -0.184576\n",
            "\n",
            "[4 rows x 13 columns]\n",
            "       CRIM        ZN     INDUS  ...   PTRATIO         B     LSTAT\n",
            "0 -0.372923 -0.502419 -0.711561  ... -0.489550  0.318974 -1.331126\n",
            "1 -0.414165  3.075732 -0.898942  ...  0.344640  0.427436 -1.108619\n",
            "2 -0.412891 -0.502419 -1.129795  ... -0.304174  0.373661 -0.526132\n",
            "3  0.905605 -0.502419  1.072305  ...  0.808078  0.427436  3.153033\n",
            "\n",
            "[4 rows x 13 columns]\n"
          ],
          "name": "stdout"
        }
      ]
    },
    {
      "cell_type": "markdown",
      "metadata": {
        "id": "u7gVauRK4gZa",
        "colab_type": "text"
      },
      "source": [
        "## 3. Applying Simple Linear Regression"
      ]
    },
    {
      "cell_type": "code",
      "metadata": {
        "id": "j8EGDXj9tix0",
        "colab_type": "code",
        "colab": {}
      },
      "source": [
        "from sklearn.linear_model import LinearRegression\n",
        "\n",
        "lm = LinearRegression()\n",
        "lm = LinearRegression()\n",
        "lm.fit(data_train_std, label_trian)\n",
        "\n",
        "y_pred = lm.predict(data_test_std)\n"
      ],
      "execution_count": 0,
      "outputs": []
    },
    {
      "cell_type": "code",
      "metadata": {
        "id": "SQkYN3vZudaT",
        "colab_type": "code",
        "outputId": "48cedad5-a4c0-4841-f04d-dd160f1a376a",
        "colab": {
          "base_uri": "https://localhost:8080/",
          "height": 305
        }
      },
      "source": [
        "import matplotlib.pyplot as plt\n",
        "\n",
        "plt.scatter(label_test, y_pred)\n",
        "plt.xlabel(\"Prices: $Y_i$\")\n",
        "plt.ylabel(\"Predicted prices: $\\hat{Y}_i$\")\n",
        "plt.title(\"Prices vs Predicted prices: $Y_i$ vs $\\hat{Y}_i$\")\n",
        "plt.show()"
      ],
      "execution_count": 127,
      "outputs": [
        {
          "output_type": "display_data",
          "data": {
            "image/png": "[encoded data removed]",
            "text/plain": [
              "<Figure size 432x288 with 1 Axes>"
            ]
          },
          "metadata": {
            "tags": []
          }
        }
      ]
    },
    {
      "cell_type": "markdown",
      "metadata": {
        "id": "VH9iqgMk6F4v",
        "colab_type": "text"
      },
      "source": [
        "**Error in each test prediction**"
      ]
    },
    {
      "cell_type": "code",
      "metadata": {
        "id": "lVTMtyDL5603",
        "colab_type": "code",
        "outputId": "c9fafcc9-8440-4335-e68c-5014c5910182",
        "colab": {
          "base_uri": "https://localhost:8080/",
          "height": 269
        }
      },
      "source": [
        "delta_y = label_test - y_pred;\n",
        "\n",
        "import seaborn as sns;\n",
        "import numpy as np;\n",
        "sns.set_style('whitegrid')\n",
        "sns.kdeplot(np.array(delta_y), bw=0.5)\n",
        "plt.show()"
      ],
      "execution_count": 128,
      "outputs": [
        {
          "output_type": "display_data",
          "data": {
            "image/png": "[encoded data removed]",
            "text/plain": [
              "<Figure size 432x288 with 1 Axes>"
            ]
          },
          "metadata": {
            "tags": []
          }
        }
      ]
    },
    {
      "cell_type": "markdown",
      "metadata": {
        "id": "8nZlyR-S6Z-d",
        "colab_type": "text"
      },
      "source": [
        "**prediction label plot**"
      ]
    },
    {
      "cell_type": "code",
      "metadata": {
        "id": "rdCx5UkX6NEe",
        "colab_type": "code",
        "outputId": "fd77c839-387f-492b-c11d-151648a0a327",
        "colab": {
          "base_uri": "https://localhost:8080/",
          "height": 269
        }
      },
      "source": [
        "sns.set_style('whitegrid')\n",
        "sns.kdeplot(np.array(y_pred), bw=0.5)\n",
        "plt.show()"
      ],
      "execution_count": 129,
      "outputs": [
        {
          "output_type": "display_data",
          "data": {
            "image/png": "[encoded data removed]",
            "text/plain": [
              "<Figure size 432x288 with 1 Axes>"
            ]
          },
          "metadata": {
            "tags": []
          }
        }
      ]
    },
    {
      "cell_type": "markdown",
      "metadata": {
        "id": "6FgsWjdH6otd",
        "colab_type": "text"
      },
      "source": [
        "**Total Mean squared Error in normal Linear Regression**"
      ]
    },
    {
      "cell_type": "code",
      "metadata": {
        "id": "dAA9JKxT6kye",
        "colab_type": "code",
        "outputId": "56140176-164f-4dd0-c9fd-93695e205a31",
        "colab": {
          "base_uri": "https://localhost:8080/",
          "height": 51
        }
      },
      "source": [
        "print(\"length of prediction errors array\", len(delta_y))\n",
        "\n",
        "SE = 0\n",
        "\n",
        "\n",
        "for i in delta_y:\n",
        "  sq = i**2\n",
        "  SE += sq\n",
        "\n",
        "#mean squere error\n",
        "MSE = SE / len(delta_y)\n",
        "print(MSE)\n",
        "  "
      ],
      "execution_count": 130,
      "outputs": [
        {
          "output_type": "stream",
          "text": [
            "length of prediction errors array 167\n",
            "28.53045876597462\n"
          ],
          "name": "stdout"
        }
      ]
    },
    {
      "cell_type": "markdown",
      "metadata": {
        "id": "TPGwPrzm_v7W",
        "colab_type": "text"
      },
      "source": [
        "## 3. Applying SGD Algorithm"
      ]
    },
    {
      "cell_type": "code",
      "metadata": {
        "id": "ma-6ai8_62YW",
        "colab_type": "code",
        "colab": {}
      },
      "source": [
        "from sklearn.metrics import mean_squared_error\n",
        "from sklearn.linear_model import SGDRegressor\n",
        "%matplotlib inline"
      ],
      "execution_count": 0,
      "outputs": []
    },
    {
      "cell_type": "code",
      "metadata": {
        "id": "aQqI-U3RA1bi",
        "colab_type": "code",
        "colab": {}
      },
      "source": [
        "#we use SGD function module of sklearn\n",
        "\n",
        "\n",
        "def applySGD(iterations, train_data, labels_train, test_data, labels_test):\n",
        "  \n",
        "  print(\"model started\")\n",
        "  #fit sklearn SGD function\\\n",
        "  model = SGDRegressor(alpha = 0.0001, eta0 = 0.01, learning_rate = 'constant', penalty = None,max_iter = iterations)\n",
        "  model.fit(train_data, labels_train)\n",
        "  \n",
        "  y_pred = model.predict(test_data)\n",
        "  \n",
        "  #plotting predicted labels vs actual\n",
        "  plt.scatter(labels_test, y_pred)\n",
        "  plt.title(\"scatter plot between predicted labels and actual labels\")\n",
        "  plt.xlabel(\"acutal y\")\n",
        "  plt.ylabel(\"predicted  y\")\n",
        "  plt.grid(b=True, linewidth=0.5)\n",
        "  plt.show()\n",
        "  \n",
        "  #mean squared error\n",
        "  mse = mean_squared_error(labels_test, y_pred)\n",
        "  print(\"mean squared error\", mse)\n",
        "  \n",
        "  \n",
        "  return ['sklearn', iterations, 'optimal', round(mse, 2), model.coef_, round(model.intercept_[0], 2)]\n",
        "  \n"
      ],
      "execution_count": 0,
      "outputs": []
    },
    {
      "cell_type": "code",
      "metadata": {
        "id": "nHAyBnNu_2nm",
        "colab_type": "code",
        "colab": {}
      },
      "source": [
        "import math\n",
        "#function to calculate current y\n",
        "def currentY(w, x, b):\n",
        "  y_curr = np.dot(w,x) + b\n",
        "  \n",
        "  return y_curr\n",
        "\n",
        "#custom step function\n",
        "def stepFunction(r, i):\n",
        "  r = r / (math.exp(i))\n",
        "  return r\n",
        "\n",
        "def returnPredictedArr(data, w_new, b_new):\n",
        "  y_predicted = []\n",
        "  for l in range(len(data)):\n",
        "    y_pred = currentY(w_new, data[l].reshape(13,1), b_new);\n",
        "    y_predicted.append(y_pred[0, 0])\n",
        "  \n",
        "  return y_predicted\n"
      ],
      "execution_count": 0,
      "outputs": []
    },
    {
      "cell_type": "code",
      "metadata": {
        "id": "7Lin401oXeJX",
        "colab_type": "code",
        "colab": {}
      },
      "source": [
        "from tqdm import tqdm\n",
        "#  applying sgd using custome function\n",
        "\n",
        "def Custom_SGD(iterations, train_data, labels_train, test_data, labels_test, batch_size):\n",
        "  \n",
        "  #create SGD function\n",
        "  \n",
        "  #initial values\n",
        "  w_new = np.zeros(shape = (1,13))\n",
        "  b_new = 0\n",
        "  r = 1\n",
        "  i = 1\n",
        "  \n",
        "  combined_x_trian = train_data\n",
        "  combined_x_trian['price'] = labels_train\n",
        "  \n",
        "  #take random data points equal to batch_size\n",
        "  combined_trainn_sample = combined_x_trian.sample(batch_size)\n",
        "  train_data_labels_new = combined_trainn_sample['price']\n",
        "  train_data_new = combined_trainn_sample.drop('price', axis = 1)\n",
        "  y = np.array(train_data_labels_new)\n",
        "  x = np.array(train_data_new)\n",
        "  \n",
        "  #initial mean squared error on test data\n",
        "  train_loss = 0\n",
        "  \n",
        "  print(currentY(w_new, x[1].reshape(13,1), b_new)[0][0])\n",
        "  \n",
        "  for i in range(iterations):\n",
        "    #print(w_new)\n",
        "    z = 0\n",
        "    q = 0\n",
        "    #get derivate of lossfn for hyper plane\n",
        "    for j in range(batch_size):\n",
        "      y_curr = currentY(w_new, x[j].reshape(13,1), b_new)\n",
        "      \n",
        "      z += (y[j] - y_curr[0, 0]) * (x[j]).reshape(1,13)\n",
        "      q += (y[j] - y_curr[0, 0])\n",
        "    \n",
        "    #step size = 0.01\n",
        "    #print(x.shape[0])\n",
        "    w_new = w_new - 2 * 0.01 * (z * (-1/ x.shape[0]))\n",
        "    b_new = b_new - 2 * 0.01 * (q * (-1/ x.shape[0]))\n",
        "    \n",
        "    #print(y[1] - currentY(w_new, x[1].reshape(13,1), b_new)[0][0])\n",
        "    train_loss_new = mean_squared_error(y, returnPredictedArr(x, w_new, b_new))\n",
        "    #we stop the loop when train error change in each iteration is less than 0.01\n",
        "    if(abs(train_loss - train_loss_new) <= 0.0001):\n",
        "      print(\"ith iteration on which loop stopped\", i)\n",
        "      break\n",
        "    else:\n",
        "      train_loss = train_loss_new\n",
        "    \n",
        "  \n",
        "  #print(\"iterations\", len(test_data))\n",
        "  #print(test_data.loc[1])\n",
        "  #print(x[1].reshape(13,1))\n",
        "  #predictions on test data\n",
        "  y_predicted = []\n",
        "  print('*' * 50)\n",
        "  print(\"intercept of optimal plane\", b_new)\n",
        "  print(\"weight of optimal plane normal vector\", w_new)\n",
        "  print('*' * 50)\n",
        "  #print(test_data.loc[j].shape)\n",
        "  for l in tqdm(range(len(test_data))):\n",
        "    y_pred = currentY(w_new, np.array(test_data.loc[l]).reshape(13,1), b_new);\n",
        "    y_predicted.append(y_pred[0, 0])\n",
        "  \n",
        "  #plotting predicted labels vs actual\n",
        "  #print(labels_test[:10])\n",
        "  #print(y_predicted[:10])\n",
        "  print('scatter plot to view the relationship between actual label and predicted label')\n",
        "  plt.scatter(labels_test, y_predicted)\n",
        "  plt.title(\"scatter plot between predicted labels and actual labels\")\n",
        "  plt.xlabel(\"acutal y\")\n",
        "  plt.ylabel(\"predicted  y\")\n",
        "  plt.grid(b=True, linewidth=0.5)\n",
        "  plt.show()\n",
        "  \n",
        "  #mean squared error\n",
        "  mse = mean_squared_error(labels_test, y_predicted)\n",
        "  print(\"mean squared error\", mse)\n",
        "    \n",
        "  return  ['custom', iterations, 'custom', round(mse, 2), w_new, round(b_new,2)]\n",
        "      \n",
        "  "
      ],
      "execution_count": 0,
      "outputs": []
    },
    {
      "cell_type": "markdown",
      "metadata": {
        "id": "c40RWH13Yc-_",
        "colab_type": "text"
      },
      "source": [
        "# Apply Sklearn SGD"
      ]
    },
    {
      "cell_type": "code",
      "metadata": {
        "id": "nWTGYq8XGV7G",
        "colab_type": "code",
        "outputId": "9eaea755-230e-44af-ed61-b3f119bbc155",
        "colab": {
          "base_uri": "https://localhost:8080/",
          "height": 329
        }
      },
      "source": [
        "#running sklearn based model\n",
        "sklearn_arr = applySGD(5000, data_train_std, label_trian, data_test_std, label_test)"
      ],
      "execution_count": 135,
      "outputs": [
        {
          "output_type": "stream",
          "text": [
            "model started\n"
          ],
          "name": "stdout"
        },
        {
          "output_type": "display_data",
          "data": {
            "image/png": "[encoded data removed]",
            "text/plain": [
              "<Figure size 432x288 with 1 Axes>"
            ]
          },
          "metadata": {
            "tags": []
          }
        },
        {
          "output_type": "stream",
          "text": [
            "mean squared error 28.770881053618336\n"
          ],
          "name": "stdout"
        }
      ]
    },
    {
      "cell_type": "markdown",
      "metadata": {
        "id": "TymybAzOYYiK",
        "colab_type": "text"
      },
      "source": [
        "# Apply Custom SGD"
      ]
    },
    {
      "cell_type": "code",
      "metadata": {
        "id": "sH8KnKxMHLYH",
        "colab_type": "code",
        "outputId": "230cd65e-3093-455c-cfd0-320f75a25d7e",
        "colab": {
          "base_uri": "https://localhost:8080/",
          "height": 465
        }
      },
      "source": [
        "c_arr = []\n",
        "#using batch size equal to whole of train data for minimal mse error\n",
        "custom_arr = Custom_SGD(1246, data_train_std, label_trian, data_test_std, label_test, 339)\n",
        "c_arr.append(custom_arr)"
      ],
      "execution_count": 136,
      "outputs": [
        {
          "output_type": "stream",
          "text": [
            "0.0\n"
          ],
          "name": "stdout"
        },
        {
          "output_type": "stream",
          "text": [
            "100%|██████████| 167/167 [00:00<00:00, 3033.52it/s]"
          ],
          "name": "stderr"
        },
        {
          "output_type": "stream",
          "text": [
            "**************************************************\n",
            "intercept of optimal plane 22.537168141329577\n",
            "weight of optimal plane normal vector [[-1.27665342  0.80774732 -0.34421351  0.21499679 -1.4443193   2.82782729\n",
            "  -0.36826867 -2.78864321  2.38499972 -1.63148218 -2.11344668  1.04761132\n",
            "  -3.31464934]]\n",
            "**************************************************\n",
            "scatter plot to view the relationship between actual label and predicted label\n"
          ],
          "name": "stdout"
        },
        {
          "output_type": "stream",
          "text": [
            "\n"
          ],
          "name": "stderr"
        },
        {
          "output_type": "display_data",
          "data": {
            "image/png": "[encoded data removed]",
            "text/plain": [
              "<Figure size 432x288 with 1 Axes>"
            ]
          },
          "metadata": {
            "tags": []
          }
        },
        {
          "output_type": "stream",
          "text": [
            "mean squared error 28.48592793747842\n"
          ],
          "name": "stdout"
        }
      ]
    },
    {
      "cell_type": "markdown",
      "metadata": {
        "id": "piwMLrKWYUjX",
        "colab_type": "text"
      },
      "source": [
        "# Conclusions"
      ]
    },
    {
      "cell_type": "code",
      "metadata": {
        "id": "Go2UA0jnIUpd",
        "colab_type": "code",
        "outputId": "aebbc4a4-04b7-443b-98a2-4506714b517c",
        "colab": {
          "base_uri": "https://localhost:8080/",
          "height": 187
        }
      },
      "source": [
        "from prettytable import PrettyTable\n",
        "x = PrettyTable()\n",
        "\n",
        "x.field_names = [\"Type\", \"Iterations\", \"step size\", \"mean sqared Error\", \"weights\", \"intercept\"]\n",
        "\n",
        "x.add_row(sklearn_arr)\n",
        "x.add_row(c_arr[0])\n",
        "print(x)"
      ],
      "execution_count": 137,
      "outputs": [
        {
          "output_type": "stream",
          "text": [
            "+---------+------------+-----------+-------------------+---------------------------------------------------------------------------+-----------+\n",
            "|   Type  | Iterations | step size | mean sqared Error |                                  weights                                  | intercept |\n",
            "+---------+------------+-----------+-------------------+---------------------------------------------------------------------------+-----------+\n",
            "| sklearn |    5000    |  optimal  |       28.77       |  [-1.56129521  0.89786127 -0.17712305  0.35791207 -1.30526274  2.87337929 |   22.56   |\n",
            "|         |            |           |                   |   -0.3052743  -2.88966914  2.35831627 -1.83649828 -2.4409028   0.93481277 |           |\n",
            "|         |            |           |                   |                                -3.18780753]                               |           |\n",
            "|  custom |    1246    |   custom  |       28.49       | [[-1.27665342  0.80774732 -0.34421351  0.21499679 -1.4443193   2.82782729 |   22.54   |\n",
            "|         |            |           |                   |   -0.36826867 -2.78864321  2.38499972 -1.63148218 -2.11344668  1.04761132 |           |\n",
            "|         |            |           |                   |                                -3.31464934]]                              |           |\n",
            "+---------+------------+-----------+-------------------+---------------------------------------------------------------------------+-----------+\n"
          ],
          "name": "stdout"
        }
      ]
    },
    {
      "cell_type": "markdown",
      "metadata": {
        "id": "HzxCAiH4b-3R",
        "colab_type": "text"
      },
      "source": [
        "**Custom base model giving less error than sklearn based sgd with same number of iterations but with learning rate 0.01**\n",
        "\n",
        "**Custom implemetation giving different kind of error for same combinations because of random picking of data points using batch size**"
      ]
    }
  ]
}